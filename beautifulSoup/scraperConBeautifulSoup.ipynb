{
 "cells": [
  {
   "cell_type": "code",
   "execution_count": 1,
   "metadata": {
    "colab": {},
    "colab_type": "code",
    "id": "RGEwuyF5RQPa"
   },
   "outputs": [],
   "source": [
    "import requests # Peticiones HTTP"
   ]
  },
  {
   "cell_type": "markdown",
   "metadata": {
    "colab_type": "text",
    "id": "6J9XncW1ZrlZ"
   },
   "source": [
    "## Requests intro\n",
    "---"
   ]
  },
  {
   "cell_type": "code",
   "execution_count": 2,
   "metadata": {
    "colab": {},
    "colab_type": "code",
    "id": "ytq5kWTQRYwJ"
   },
   "outputs": [],
   "source": [
    "url = 'https://www.pagina12.com.ar/'\n",
    "p12 = requests.get(url) # Petición por método GET"
   ]
  },
  {
   "cell_type": "code",
   "execution_count": 3,
   "metadata": {
    "colab": {
     "base_uri": "https://localhost:8080/",
     "height": 34
    },
    "colab_type": "code",
    "id": "klDXzddZRpa4",
    "outputId": "90f473bf-fe67-438c-b9cc-7d036c7b1d9c"
   },
   "outputs": [
    {
     "data": {
      "text/plain": [
       "200"
      ]
     },
     "execution_count": 3,
     "metadata": {},
     "output_type": "execute_result"
    }
   ],
   "source": [
    "p12.status_code # 200 = Bien hecho"
   ]
  },
  {
   "cell_type": "code",
   "execution_count": 4,
   "metadata": {
    "colab": {},
    "colab_type": "code",
    "id": "Hwn7G2vASx_X"
   },
   "outputs": [],
   "source": [
    "p12_html = p12.text # Texto HTML (string)"
   ]
  },
  {
   "cell_type": "code",
   "execution_count": 5,
   "metadata": {
    "colab": {},
    "colab_type": "code",
    "id": "ONoKSnD7TewH"
   },
   "outputs": [],
   "source": [
    "p12_content = p12.content # Texto HTML (bytes)"
   ]
  },
  {
   "cell_type": "code",
   "execution_count": 6,
   "metadata": {
    "colab": {
     "base_uri": "https://localhost:8080/",
     "height": 54
    },
    "colab_type": "code",
    "id": "KRteYq6TVBM_",
    "outputId": "6a3d3021-b690-4a4d-f583-4143bf8d9ff8"
   },
   "outputs": [
    {
     "data": {
      "text/plain": [
       "{'Date': 'Thu, 12 Mar 2020 13:40:07 GMT', 'Content-Type': 'text/html; charset=utf-8', 'Transfer-Encoding': 'chunked', 'Connection': 'keep-alive', 'Set-Cookie': '__cfduid=d2f22f3a992ff501c62a1ba5a42db4cd01584020407; expires=Sat, 11-Apr-20 13:40:07 GMT; path=/; domain=.pagina12.com.ar; HttpOnly; SameSite=Lax', 'Vary': 'Accept-Encoding', 'X-DNS-Prefetch-Control': 'off', 'Strict-Transport-Security': 'max-age=15724800; includeSubDomains', 'X-Download-Options': 'noopen', 'X-Content-Type-Options': 'nosniff', 'X-XSS-Protection': '1; mode=block', 'X-Backend': 'prod_frontend_1', 'X-Backend-TTL': '180.000', 'X-Type': 'Dynamic URI', 'Age': '2', 'grace': '86400.000 none', 'ttl': '117.713', 'x-debug': '', 'X-Instance': 'cache-front-prod-varnish-76c5f88cf6-6j89c', 'x-restarts': '0', 'X-Cache': 'HIT (20)', 'CF-Cache-Status': 'DYNAMIC', 'Expect-CT': 'max-age=604800, report-uri=\"https://report-uri.cloudflare.com/cdn-cgi/beacon/expect-ct\"', 'Server': 'cloudflare', 'CF-RAY': '572decd7d8d8ec8a-DFW', 'Content-Encoding': 'gzip'}"
      ]
     },
     "execution_count": 6,
     "metadata": {},
     "output_type": "execute_result"
    }
   ],
   "source": [
    "p12.headers # HTTP response headers"
   ]
  },
  {
   "cell_type": "code",
   "execution_count": 7,
   "metadata": {
    "colab": {
     "base_uri": "https://localhost:8080/",
     "height": 34
    },
    "colab_type": "code",
    "id": "AmYQgz_0VHpV",
    "outputId": "082b2263-0feb-4763-d713-588e1fb2c059"
   },
   "outputs": [
    {
     "data": {
      "text/plain": [
       "{'User-Agent': 'python-requests/2.22.0', 'Accept-Encoding': 'gzip, deflate', 'Accept': '*/*', 'Connection': 'keep-alive'}"
      ]
     },
     "execution_count": 7,
     "metadata": {},
     "output_type": "execute_result"
    }
   ],
   "source": [
    "p12.request.headers # HTTP request headers"
   ]
  },
  {
   "cell_type": "code",
   "execution_count": 8,
   "metadata": {
    "colab": {
     "base_uri": "https://localhost:8080/",
     "height": 34
    },
    "colab_type": "code",
    "id": "Rgj2o_bVXk-Y",
    "outputId": "174af24d-497f-462d-f3c1-5500839a56fe"
   },
   "outputs": [
    {
     "data": {
      "text/plain": [
       "'GET'"
      ]
     },
     "execution_count": 8,
     "metadata": {},
     "output_type": "execute_result"
    }
   ],
   "source": [
    "p12.request.method # request method"
   ]
  },
  {
   "cell_type": "code",
   "execution_count": 9,
   "metadata": {
    "colab": {
     "base_uri": "https://localhost:8080/",
     "height": 34
    },
    "colab_type": "code",
    "id": "68Xkzu_pX9hj",
    "outputId": "c8659acc-59ff-4a4c-d37f-2189d8ecb359"
   },
   "outputs": [
    {
     "data": {
      "text/plain": [
       "'https://www.pagina12.com.ar/'"
      ]
     },
     "execution_count": 9,
     "metadata": {},
     "output_type": "execute_result"
    }
   ],
   "source": [
    "p12.request.url # request url"
   ]
  },
  {
   "cell_type": "markdown",
   "metadata": {
    "colab_type": "text",
    "id": "VDosPdKTZxjY"
   },
   "source": [
    "## Intro BeautifulSoup\n",
    "---"
   ]
  },
  {
   "cell_type": "code",
   "execution_count": 10,
   "metadata": {
    "colab": {},
    "colab_type": "code",
    "id": "VML-Ql5vYHk-"
   },
   "outputs": [],
   "source": [
    "from bs4 import BeautifulSoup # HTML parser"
   ]
  },
  {
   "cell_type": "code",
   "execution_count": 11,
   "metadata": {
    "colab": {},
    "colab_type": "code",
    "id": "fVTFribzZ6pb"
   },
   "outputs": [],
   "source": [
    "s = BeautifulSoup(p12.text, 'lxml') # Parser"
   ]
  },
  {
   "cell_type": "code",
   "execution_count": 12,
   "metadata": {
    "colab": {
     "base_uri": "https://localhost:8080/",
     "height": 34
    },
    "colab_type": "code",
    "id": "IF0y_7w3alpH",
    "outputId": "0f1f9088-381a-4ebc-d0d8-54970acced0c"
   },
   "outputs": [
    {
     "data": {
      "text/plain": [
       "bs4.BeautifulSoup"
      ]
     },
     "execution_count": 12,
     "metadata": {},
     "output_type": "execute_result"
    }
   ],
   "source": [
    "type(s)"
   ]
  },
  {
   "cell_type": "code",
   "execution_count": 13,
   "metadata": {
    "colab": {
     "base_uri": "https://localhost:8080/",
     "height": 102
    },
    "colab_type": "code",
    "id": "UK1F5soiamRL",
    "outputId": "bee9f642-6b74-483d-96dd-f728649a3649"
   },
   "outputs": [
    {
     "name": "stdout",
     "output_type": "stream",
     "text": [
      "<!DOCTYPE html>\n",
      "<html class=\"no-js\">\n",
      " <head>\n",
      "  <meta charset=\"utf-8\"/>\n",
      "  <title>\n"
     ]
    }
   ],
   "source": [
    "print(s.prettify()[:80]) # HTML estructurado"
   ]
  },
  {
   "cell_type": "code",
   "execution_count": 14,
   "metadata": {
    "colab": {},
    "colab_type": "code",
    "id": "NHJ2noX_auMW"
   },
   "outputs": [],
   "source": [
    "ul_hot_sections = s.find('ul', attrs={'class': 'hot-sections'}) # Devuelve el primer elemento que haga match"
   ]
  },
  {
   "cell_type": "code",
   "execution_count": 15,
   "metadata": {
    "colab": {},
    "colab_type": "code",
    "id": "CHIbF_btbhI7"
   },
   "outputs": [],
   "source": [
    "sections = ul_hot_sections.find_all('li') # Devuelve todos los elementos que hagan match (list)"
   ]
  },
  {
   "cell_type": "code",
   "execution_count": 16,
   "metadata": {
    "colab": {
     "base_uri": "https://localhost:8080/",
     "height": 153
    },
    "colab_type": "code",
    "id": "j39eLcfEcLLA",
    "outputId": "592f7640-1477-44c3-927b-db858545cee6"
   },
   "outputs": [
    {
     "name": "stdout",
     "output_type": "stream",
     "text": [
      "El país\n",
      "Economía\n",
      "Sociedad\n",
      "Cultura y Espectáculos\n",
      "El mundo\n",
      "Deportes\n",
      "Psicología\n",
      "Contratapa\n"
     ]
    }
   ],
   "source": [
    "for section in sections:\n",
    "  print(section.get_text()) # Devuelve todos los textos hijos"
   ]
  },
  {
   "cell_type": "markdown",
   "metadata": {
    "colab_type": "text",
    "id": "4daoVGR8gUfE"
   },
   "source": [
    "## Get info\n",
    "---"
   ]
  },
  {
   "cell_type": "code",
   "execution_count": 17,
   "metadata": {
    "colab": {
     "base_uri": "https://localhost:8080/",
     "height": 34
    },
    "colab_type": "code",
    "id": "0BV1LfRscRjA",
    "outputId": "619484df-22b3-4a18-c189-6d720ef73c6b"
   },
   "outputs": [
    {
     "data": {
      "text/plain": [
       "'https://www.pagina12.com.ar/secciones/el-pais'"
      ]
     },
     "execution_count": 17,
     "metadata": {},
     "output_type": "execute_result"
    }
   ],
   "source": [
    "sections[0].a.get('href') # Devuelve el valor de un atributo"
   ]
  },
  {
   "cell_type": "code",
   "execution_count": 18,
   "metadata": {
    "colab": {
     "base_uri": "https://localhost:8080/",
     "height": 153
    },
    "colab_type": "code",
    "id": "s78yZ33cdKfs",
    "outputId": "3df5816d-80d6-4f09-cfb0-2c6edebe3751"
   },
   "outputs": [
    {
     "data": {
      "text/plain": [
       "['https://www.pagina12.com.ar/secciones/el-pais',\n",
       " 'https://www.pagina12.com.ar/secciones/economia',\n",
       " 'https://www.pagina12.com.ar/secciones/sociedad',\n",
       " 'https://www.pagina12.com.ar/suplementos/cultura-y-espectaculos',\n",
       " 'https://www.pagina12.com.ar/secciones/el-mundo',\n",
       " 'https://www.pagina12.com.ar/secciones/deportes',\n",
       " 'https://www.pagina12.com.ar/secciones/psicologia',\n",
       " 'https://www.pagina12.com.ar/secciones/contratapa']"
      ]
     },
     "execution_count": 18,
     "metadata": {},
     "output_type": "execute_result"
    }
   ],
   "source": [
    "link_secciones = [section.a.get('href') for section in sections]\n",
    "link_secciones"
   ]
  },
  {
   "cell_type": "code",
   "execution_count": 19,
   "metadata": {
    "colab": {},
    "colab_type": "code",
    "id": "0Mt71a1KeIX0"
   },
   "outputs": [],
   "source": [
    "s = requests.get(link_secciones[0])\n",
    "s_section = BeautifulSoup(s.text, 'lxml')"
   ]
  },
  {
   "cell_type": "code",
   "execution_count": 20,
   "metadata": {
    "colab": {},
    "colab_type": "code",
    "id": "sBWdLF_2f8Ax"
   },
   "outputs": [],
   "source": [
    "featured_article = s_section.find('div', attrs={ 'class':'featured-article__container' })"
   ]
  },
  {
   "cell_type": "code",
   "execution_count": 21,
   "metadata": {
    "colab": {
     "base_uri": "https://localhost:8080/",
     "height": 34
    },
    "colab_type": "code",
    "id": "YtcNZ5PVgu5f",
    "outputId": "92a72b97-5117-4ad2-c919-5350fe10b240"
   },
   "outputs": [
    {
     "data": {
      "text/plain": [
       "'https://www.pagina12.com.ar/252484-los-metrodelegados-levantan-molinetes-en-el-subte'"
      ]
     },
     "execution_count": 21,
     "metadata": {},
     "output_type": "execute_result"
    }
   ],
   "source": [
    "featured_article.a.get('href')"
   ]
  },
  {
   "cell_type": "code",
   "execution_count": 22,
   "metadata": {
    "colab": {},
    "colab_type": "code",
    "id": "kIv1y2OIhG-m"
   },
   "outputs": [],
   "source": [
    "article_list = s_section.find('ul', attrs={ 'class':'article-list' })"
   ]
  },
  {
   "cell_type": "code",
   "execution_count": 23,
   "metadata": {
    "colab": {
     "base_uri": "https://localhost:8080/",
     "height": 272
    },
    "colab_type": "code",
    "id": "KKOCxGaMhVJq",
    "outputId": "7201f0b8-9f9e-4d48-b4d5-837d8a6cbf38"
   },
   "outputs": [
    {
     "data": {
      "text/plain": [
       "['https://www.pagina12.com.ar/252480-alberto-fernandez-sobre-el-coronavirus-es-muy-importante-la-',\n",
       " 'https://www.pagina12.com.ar/252265-desafios-de-la-educacion-superior',\n",
       " 'https://www.pagina12.com.ar/252479-por-el-coronavirus-eduardo-duhalde-y-chiche-se-aislaron-prev',\n",
       " 'https://www.pagina12.com.ar/252235-la-provincia-de-buenos-aires-como-problema',\n",
       " 'https://www.pagina12.com.ar/252484-los-metrodelegados-levantan-molinetes-en-el-subte',\n",
       " 'https://www.pagina12.com.ar/252421-el-gobierno-lanza-un-plan-de-pequenas-obras',\n",
       " 'https://www.pagina12.com.ar/252281-el-aborto-divide-a-las-legisladoras-radicales-se-dobla-y-no-',\n",
       " 'https://www.pagina12.com.ar/252310-la-justicia-investiga-un-multimillonaro-desvio-de-acero-de-l',\n",
       " 'https://www.pagina12.com.ar/252222-ramos-padilla-denuncia-que-en-comodoro-py-buscan-beneficiar-',\n",
       " 'https://www.pagina12.com.ar/252382-argentina-admitio-responsabilidad-y-pidio-disculpas',\n",
       " 'https://www.pagina12.com.ar/252408-dibujos-urgentes-retratos-de-genocidas-y-testigos-de-juicios',\n",
       " 'https://www.pagina12.com.ar/252422-legisladores-y-empleados-del-congreso-en-cuarentena',\n",
       " 'https://www.pagina12.com.ar/252399-el-senado-sesionara-para-convertir-en-ley-las-limitaciones-a',\n",
       " 'https://www.pagina12.com.ar/252379-lagrimas-y-alegrias',\n",
       " 'https://www.pagina12.com.ar/252406-le-impusieron-una-multa-a-larreta-por-no-cumplir-con-un-plan']"
      ]
     },
     "execution_count": 23,
     "metadata": {},
     "output_type": "execute_result"
    }
   ],
   "source": [
    "# Reto\n",
    "def get_articles_links_from_section(sectionBS):\n",
    "  links = []\n",
    "\n",
    "  # Featured article\n",
    "  links.append(sectionBS.find('div', attrs={ 'class':'featured-article__container'}).a.get('href'))\n",
    "\n",
    "  # \"Normal\" articles\n",
    "  for article in sectionBS.find('ul', attrs={ 'class':'article-list' }).find_all('li'):\n",
    "    if article.get_text():\n",
    "      links.append(article.find('h2').a.get('href'))\n",
    "\n",
    "  return list(set(links))\n",
    "\n",
    "lista_notas = get_articles_links_from_section(s_section)\n",
    "lista_notas"
   ]
  },
  {
   "cell_type": "markdown",
   "metadata": {
    "colab_type": "text",
    "id": "TeEeMCEGmIR8"
   },
   "source": [
    "## Error Handling\n",
    "---"
   ]
  },
  {
   "cell_type": "code",
   "execution_count": 24,
   "metadata": {
    "colab": {
     "base_uri": "https://localhost:8080/",
     "height": 34
    },
    "colab_type": "code",
    "id": "nYLxInjKi5Us",
    "outputId": "582c275f-b8b9-421b-d0bb-534e5d5d7af8"
   },
   "outputs": [
    {
     "name": "stdout",
     "output_type": "stream",
     "text": [
      "Yeih!!\n"
     ]
    }
   ],
   "source": [
    "# status_code == 200\n",
    "\n",
    "r = requests.get(url)\n",
    "\n",
    "if r.status_code == 200:\n",
    "  # Use the response\n",
    "  print('Yeih!!')\n",
    "else:\n",
    "  # Show the error\n",
    "  print('Oh no!')"
   ]
  },
  {
   "cell_type": "code",
   "execution_count": 25,
   "metadata": {
    "colab": {
     "base_uri": "https://localhost:8080/",
     "height": 71
    },
    "colab_type": "code",
    "id": "hR6DNNqMnYh8",
    "outputId": "03ea9fcb-9a23-4716-eaf0-8952a4088b51"
   },
   "outputs": [
    {
     "name": "stdout",
     "output_type": "stream",
     "text": [
      "Error\n",
      "HTTPSConnectionPool(host='www.pagina13.com.ar', port=443): Max retries exceeded with url: / (Caused by NewConnectionError('<urllib3.connection.VerifiedHTTPSConnection object at 0x7fcca51cbd50>: Failed to establish a new connection: [Errno -2] Name or service not known'))\n"
     ]
    }
   ],
   "source": [
    "# Revisar si se obtuvo respuesta del servidor\n",
    "\n",
    "url_mala = url.replace('2', '3') # https://www.pagina13.com.ar/\n",
    "\n",
    "try:\n",
    "  response = requests.get(url_mala)\n",
    "  print(response)\n",
    "except Exception as e:\n",
    "  print('Error')\n",
    "  print(e)"
   ]
  },
  {
   "cell_type": "code",
   "execution_count": 26,
   "metadata": {
    "colab": {
     "base_uri": "https://localhost:8080/",
     "height": 51
    },
    "colab_type": "code",
    "id": "oS95Fa1EoHw4",
    "outputId": "9ef58660-e482-4bc7-9ee9-d3eaaa6d7c97"
   },
   "outputs": [
    {
     "name": "stdout",
     "output_type": "stream",
     "text": [
      "Error\n",
      "'NoneType' object has no attribute 'get_text'\n"
     ]
    }
   ],
   "source": [
    "# Revisar si un tag existió\n",
    "\n",
    "try:\n",
    "  text = featured_article.somehtmltag.get_text()\n",
    "  print(text)\n",
    "except Exception as e:\n",
    "  print('Error')\n",
    "  print(e)"
   ]
  },
  {
   "cell_type": "markdown",
   "metadata": {
    "colab_type": "text",
    "id": "CG2xRFr-wt-C"
   },
   "source": [
    "## Get info\n",
    "---"
   ]
  },
  {
   "cell_type": "code",
   "execution_count": 27,
   "metadata": {
    "colab": {
     "base_uri": "https://localhost:8080/",
     "height": 34
    },
    "colab_type": "code",
    "id": "2BiMpe5kqeQL",
    "outputId": "e0f5565d-59f0-42e4-c371-d420bee83791"
   },
   "outputs": [
    {
     "name": "stdout",
     "output_type": "stream",
     "text": [
      "https://www.pagina12.com.ar/252480-alberto-fernandez-sobre-el-coronavirus-es-muy-importante-la-\n"
     ]
    }
   ],
   "source": [
    "url_nota = lista_notas[0]\n",
    "print(url_nota)"
   ]
  },
  {
   "cell_type": "code",
   "execution_count": 28,
   "metadata": {
    "colab": {
     "base_uri": "https://localhost:8080/",
     "height": 51
    },
    "colab_type": "code",
    "id": "lAQRRYOfqnv5",
    "outputId": "95cfce4b-9d6c-4766-ba58-22b68941be4f"
   },
   "outputs": [
    {
     "name": "stdout",
     "output_type": "stream",
     "text": [
      "Los metrodelegados levantan molinetes en el subteReclamo por la paritaria de 2019\n",
      "2020-03-12\n"
     ]
    }
   ],
   "source": [
    "try:\n",
    "  nota = requests.get(url_nota)\n",
    "  if nota.status_code == 200:\n",
    "    s_nota = BeautifulSoup(nota.text, 'lxml')\n",
    "\n",
    "    # Title\n",
    "    title = s_nota.find('div', attrs={ 'class':'article-title' }).get_text()\n",
    "    date = s_nota.find('span', attrs={ 'pubdate':'pubdate' }).get('datetime')\n",
    "\n",
    "    print(title)\n",
    "    print(date)\n",
    "except Exception as e:\n",
    "  print('Error')\n",
    "  print(e)\n",
    "  print('\\n')"
   ]
  },
  {
   "cell_type": "markdown",
   "metadata": {
    "colab_type": "text",
    "id": "DMlBOWJDw5-C"
   },
   "source": [
    "## Media content\n",
    "---"
   ]
  },
  {
   "cell_type": "code",
   "execution_count": 29,
   "metadata": {
    "colab": {
     "base_uri": "https://localhost:8080/",
     "height": 34
    },
    "colab_type": "code",
    "id": "qKoy40BArgWI",
    "outputId": "7e874922-1f11-4dfc-ec89-16bbbad3c36c"
   },
   "outputs": [
    {
     "name": "stdout",
     "output_type": "stream",
     "text": [
      "https://images.pagina12.com.ar/styles/focal_3_2_960x640/public/media/articles/56759/alberto-20fernandez.jpeg?itok=PFZHNiHg\n"
     ]
    }
   ],
   "source": [
    "media = s_nota.find('div', attrs={ 'class':'article-main-media-image' })\n",
    "images = media.find_all('img')\n",
    "\n",
    "if images:\n",
    "  image = images[-1]\n",
    "  image_src = image.get('data-src')\n",
    "  print(image_src)\n",
    "else:\n",
    "  print('No images found')"
   ]
  },
  {
   "cell_type": "code",
   "execution_count": 30,
   "metadata": {
    "colab": {},
    "colab_type": "code",
    "id": "CkF4IZHZz9yh"
   },
   "outputs": [],
   "source": [
    "from IPython.display import Image"
   ]
  },
  {
   "cell_type": "code",
   "execution_count": 31,
   "metadata": {
    "colab": {},
    "colab_type": "code",
    "id": "LE0e0GCx0MoN"
   },
   "outputs": [],
   "source": [
    "img_req = requests.get(image_src)\n",
    "\n",
    "if img_req.status_code == 200:\n",
    "  Image(img_req.content)\n",
    "else:\n",
    "  print('Error')"
   ]
  },
  {
   "cell_type": "markdown",
   "metadata": {
    "colab_type": "text",
    "id": "W_h1V_JI1OOG"
   },
   "source": [
    "## Final scraper\n",
    "---"
   ]
  },
  {
   "cell_type": "code",
   "execution_count": 32,
   "metadata": {
    "colab": {},
    "colab_type": "code",
    "id": "BSzTL3iN3Jyx"
   },
   "outputs": [],
   "source": [
    "def obtener_info(s_nota):\n",
    "    \n",
    "    # Creamos un diccionario vacío para poblarlo con la información\n",
    "    ret_dict = {}\n",
    "    \n",
    "    # Extraemos la fecha\n",
    "    fecha = s_nota.find('span', attrs={'pubdate':'pubdate'})\n",
    "    if fecha:\n",
    "        ret_dict['fecha'] = fecha.get('datetime')\n",
    "    else:\n",
    "        ret_dict['fecha'] = None\n",
    "    \n",
    "    # Extraemos el título\n",
    "    titulo = s_nota.find('div', attrs={'class':'article-title'})\n",
    "    if titulo:\n",
    "        ret_dict['titulo'] = titulo.text\n",
    "    else:\n",
    "        ret_dict['titulo'] = None\n",
    "\n",
    "    # Extraemos la volanta\n",
    "    volanta = s_nota.find('div', attrs={'class':'article-prefix'})\n",
    "    if volanta:\n",
    "        ret_dict['volanta'] = volanta.get_text()\n",
    "    else:\n",
    "        ret_dict['volanta'] = None\n",
    "    \n",
    "    # Extraemos el copete\n",
    "    copete = s_nota.find('div', attrs={'class':'article-summary'})\n",
    "    if copete:\n",
    "        ret_dict['copete'] = copete.get_text()\n",
    "    else:\n",
    "        ret_dict['copete'] = None\n",
    "    \n",
    "    autor = s_nota.find('div', attrs={'class':'article-author'})\n",
    "    if autor:\n",
    "        ret_dict['autor'] = autor.a.get_text()\n",
    "    else:\n",
    "        ret_dict['autor'] = None\n",
    "    \n",
    "    # Extraemos la imagen\n",
    "    media = s_nota.find('div', attrs={'class':'article-main-media-image'})\n",
    "    if media:\n",
    "        imagenes = media.find_all('img')\n",
    "        if len(imagenes) == 0:\n",
    "            print('no se encontraron imágenes')\n",
    "        else:\n",
    "            imagen = imagenes[-1]\n",
    "            img_src = imagen.get('data-src')\n",
    "            try:\n",
    "                img_req = requests.get(img_src)\n",
    "                if img_req.status_code == 200:\n",
    "                    ret_dict['imagen'] = img_req.content\n",
    "                else:\n",
    "                    ret_dict['imagen'] = None\n",
    "            except:\n",
    "                print('No se pudo obtener la imagen')\n",
    "    else:\n",
    "        print('No se encontró media')\n",
    "    # Extraemos el cuerpo de la nota\n",
    "    cuerpo = s_nota.find('div', attrs={'class':'article-text'})\n",
    "    if cuerpo:\n",
    "        ret_dict['texto'] = cuerpo.get_text()\n",
    "    else:\n",
    "        ret_dict['texto'] = None\n",
    "    \n",
    "    return ret_dict"
   ]
  },
  {
   "cell_type": "code",
   "execution_count": 40,
   "metadata": {
    "colab": {
     "base_uri": "https://localhost:8080/",
     "height": 156
    },
    "colab_type": "code",
    "id": "qghIhiZp2q5E",
    "outputId": "d015b345-58f9-4d11-c490-b871a35e0769"
   },
   "outputs": [
    {
     "data": {
      "text/plain": [
       "'Los metrodelegados levantan molinetes en el subteReclamo por la paritaria de 2019'"
      ]
     },
     "execution_count": 40,
     "metadata": {},
     "output_type": "execute_result"
    }
   ],
   "source": [
    "obtener_info(s_nota) ['titulo']"
   ]
  },
  {
   "cell_type": "code",
   "execution_count": 34,
   "metadata": {
    "colab": {},
    "colab_type": "code",
    "id": "7MK4cORq4Z6q"
   },
   "outputs": [],
   "source": [
    "def scrape_nota(url):\n",
    "  try:\n",
    "    nota = requests.get(url)\n",
    "  except Exception as e:\n",
    "    print(f'Error scrapeando {url}')\n",
    "    print(e)\n",
    "    print('\\n')\n",
    "    return None\n",
    "\n",
    "  if nota.status_code != 200:\n",
    "    print(f'Error scrapeando {url}')\n",
    "    print(f'Status code = {nota.status_code}')\n",
    "    print('\\n')\n",
    "    return None\n",
    "  \n",
    "  s_nota = BeautifulSoup(nota.text, 'lxml')\n",
    "\n",
    "  ret_dict = obtener_info(s_nota)\n",
    "  ret_dict['url'] = url\n",
    "\n",
    "  return ret_dict"
   ]
  },
  {
   "cell_type": "code",
   "execution_count": 39,
   "metadata": {
    "colab": {
     "base_uri": "https://localhost:8080/",
     "height": 173
    },
    "colab_type": "code",
    "id": "ixpf6qqS4dHT",
    "outputId": "9cc11782-76c8-4b96-bb89-0f47b5dbf422",
    "scrolled": true
   },
   "outputs": [
    {
     "data": {
      "text/plain": [
       "'Los metrodelegados levantan molinetes en el subteReclamo por la paritaria de 2019'"
      ]
     },
     "execution_count": 39,
     "metadata": {},
     "output_type": "execute_result"
    }
   ],
   "source": [
    "scrape_nota(url_nota)['titulo']"
   ]
  },
  {
   "cell_type": "code",
   "execution_count": null,
   "metadata": {
    "colab": {},
    "colab_type": "code",
    "id": "-fuVPPIh7Gtd"
   },
   "outputs": [],
   "source": []
  }
 ],
 "metadata": {
  "colab": {
   "authorship_tag": "ABX9TyMIr8f+48HS5O6MP+7eH2EZ",
   "collapsed_sections": [],
   "name": "scraperConBeautifulSoup.ipynb",
   "provenance": []
  },
  "kernelspec": {
   "display_name": "Python 3",
   "language": "python",
   "name": "python3"
  },
  "language_info": {
   "codemirror_mode": {
    "name": "ipython",
    "version": 3
   },
   "file_extension": ".py",
   "mimetype": "text/x-python",
   "name": "python",
   "nbconvert_exporter": "python",
   "pygments_lexer": "ipython3",
   "version": "3.7.4"
  }
 },
 "nbformat": 4,
 "nbformat_minor": 1
}
