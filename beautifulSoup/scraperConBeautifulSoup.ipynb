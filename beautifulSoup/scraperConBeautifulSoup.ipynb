{
  "nbformat": 4,
  "nbformat_minor": 0,
  "metadata": {
    "colab": {
      "name": "scraperConBeautifulSoup.ipynb",
      "provenance": [],
      "authorship_tag": "ABX9TyOkwmyQCVHecHUNMldorqOy"
    },
    "kernelspec": {
      "name": "python3",
      "display_name": "Python 3"
    }
  },
  "cells": [
    {
      "cell_type": "code",
      "metadata": {
        "id": "RGEwuyF5RQPa",
        "colab_type": "code",
        "colab": {}
      },
      "source": [
        "import requests # Peticiones HTTP"
      ],
      "execution_count": 0,
      "outputs": []
    },
    {
      "cell_type": "markdown",
      "metadata": {
        "id": "6J9XncW1ZrlZ",
        "colab_type": "text"
      },
      "source": [
        "## Requests intro\n",
        "---"
      ]
    },
    {
      "cell_type": "code",
      "metadata": {
        "id": "ytq5kWTQRYwJ",
        "colab_type": "code",
        "colab": {}
      },
      "source": [
        "url = 'https://www.pagina12.com.ar/'\n",
        "p12 = requests.get(url) # Petición por método GET"
      ],
      "execution_count": 0,
      "outputs": []
    },
    {
      "cell_type": "code",
      "metadata": {
        "id": "klDXzddZRpa4",
        "colab_type": "code",
        "colab": {
          "base_uri": "https://localhost:8080/",
          "height": 34
        },
        "outputId": "69315b1e-f7f5-4272-90aa-15d65e92fd3d"
      },
      "source": [
        "p12.status_code # 200 = Bien hecho"
      ],
      "execution_count": 3,
      "outputs": [
        {
          "output_type": "execute_result",
          "data": {
            "text/plain": [
              "200"
            ]
          },
          "metadata": {
            "tags": []
          },
          "execution_count": 3
        }
      ]
    },
    {
      "cell_type": "code",
      "metadata": {
        "id": "Hwn7G2vASx_X",
        "colab_type": "code",
        "colab": {}
      },
      "source": [
        "p12_html = p12.text # Texto HTML (string)"
      ],
      "execution_count": 0,
      "outputs": []
    },
    {
      "cell_type": "code",
      "metadata": {
        "id": "ONoKSnD7TewH",
        "colab_type": "code",
        "colab": {}
      },
      "source": [
        "p12_content = p12.content # Texto HTML (bytes)"
      ],
      "execution_count": 0,
      "outputs": []
    },
    {
      "cell_type": "code",
      "metadata": {
        "id": "KRteYq6TVBM_",
        "colab_type": "code",
        "colab": {
          "base_uri": "https://localhost:8080/",
          "height": 54
        },
        "outputId": "248d3886-eca3-4c34-916e-24567e502c1e"
      },
      "source": [
        "p12.headers # HTTP response headers"
      ],
      "execution_count": 6,
      "outputs": [
        {
          "output_type": "execute_result",
          "data": {
            "text/plain": [
              "{'Date': 'Thu, 12 Mar 2020 02:32:08 GMT', 'Content-Type': 'text/html; charset=utf-8', 'Transfer-Encoding': 'chunked', 'Connection': 'keep-alive', 'Set-Cookie': '__cfduid=de1fefc1da6a61b05a4affc1d622e33481583980328; expires=Sat, 11-Apr-20 02:32:08 GMT; path=/; domain=.pagina12.com.ar; HttpOnly; SameSite=Lax', 'Vary': 'Accept-Encoding', 'X-DNS-Prefetch-Control': 'off', 'Strict-Transport-Security': 'max-age=15724800; includeSubDomains', 'X-Download-Options': 'noopen', 'X-Content-Type-Options': 'nosniff', 'X-XSS-Protection': '1; mode=block', 'X-Backend': 'prod_frontend_1', 'X-Backend-TTL': '180.000', 'X-Type': 'Dynamic URI', 'Age': '4', 'grace': '86400.000 none', 'ttl': '115.826', 'x-debug': '', 'X-Instance': 'cache-front-prod-varnish-76c5f88cf6-6j89c', 'x-restarts': '0', 'X-Cache': 'HIT (20)', 'CF-Cache-Status': 'DYNAMIC', 'Expect-CT': 'max-age=604800, report-uri=\"https://report-uri.cloudflare.com/cdn-cgi/beacon/expect-ct\"', 'Server': 'cloudflare', 'CF-RAY': '572a1a5e183bf37d-ATL', 'Content-Encoding': 'gzip'}"
            ]
          },
          "metadata": {
            "tags": []
          },
          "execution_count": 6
        }
      ]
    },
    {
      "cell_type": "code",
      "metadata": {
        "id": "AmYQgz_0VHpV",
        "colab_type": "code",
        "colab": {
          "base_uri": "https://localhost:8080/",
          "height": 34
        },
        "outputId": "3e60983b-d0e5-423e-ceff-77d90683f84d"
      },
      "source": [
        "p12.request.headers # HTTP request headers"
      ],
      "execution_count": 7,
      "outputs": [
        {
          "output_type": "execute_result",
          "data": {
            "text/plain": [
              "{'User-Agent': 'python-requests/2.21.0', 'Accept-Encoding': 'gzip, deflate', 'Accept': '*/*', 'Connection': 'keep-alive'}"
            ]
          },
          "metadata": {
            "tags": []
          },
          "execution_count": 7
        }
      ]
    },
    {
      "cell_type": "code",
      "metadata": {
        "id": "Rgj2o_bVXk-Y",
        "colab_type": "code",
        "colab": {
          "base_uri": "https://localhost:8080/",
          "height": 34
        },
        "outputId": "fe342579-feef-4dfd-c677-4fe9366b8ad7"
      },
      "source": [
        "p12.request.method # request method"
      ],
      "execution_count": 8,
      "outputs": [
        {
          "output_type": "execute_result",
          "data": {
            "text/plain": [
              "'GET'"
            ]
          },
          "metadata": {
            "tags": []
          },
          "execution_count": 8
        }
      ]
    },
    {
      "cell_type": "code",
      "metadata": {
        "id": "68Xkzu_pX9hj",
        "colab_type": "code",
        "colab": {
          "base_uri": "https://localhost:8080/"
        },
        "outputId": "80896dd3-365f-451a-d09a-e32f0278c024"
      },
      "source": [
        "p12.request.url # request url"
      ],
      "execution_count": 9,
      "outputs": [
        {
          "output_type": "execute_result",
          "data": {
            "text/plain": [
              "'https://www.pagina12.com.ar/'"
            ]
          },
          "metadata": {
            "tags": []
          },
          "execution_count": 9
        }
      ]
    },
    {
      "cell_type": "markdown",
      "metadata": {
        "id": "VDosPdKTZxjY",
        "colab_type": "text"
      },
      "source": [
        "## Intro BeautifulSoup\n",
        "---"
      ]
    },
    {
      "cell_type": "code",
      "metadata": {
        "id": "VML-Ql5vYHk-",
        "colab_type": "code",
        "colab": {}
      },
      "source": [
        "from bs4 import BeautifulSoup # HTML parser"
      ],
      "execution_count": 0,
      "outputs": []
    },
    {
      "cell_type": "code",
      "metadata": {
        "id": "fVTFribzZ6pb",
        "colab_type": "code",
        "colab": {}
      },
      "source": [
        "s = BeautifulSoup(p12.text, 'lxml') # Parser"
      ],
      "execution_count": 0,
      "outputs": []
    },
    {
      "cell_type": "code",
      "metadata": {
        "id": "IF0y_7w3alpH",
        "colab_type": "code",
        "colab": {
          "base_uri": "https://localhost:8080/",
          "height": 34
        },
        "outputId": "446cfec3-4702-435a-f53e-b8b9c71b0076"
      },
      "source": [
        "type(s)"
      ],
      "execution_count": 12,
      "outputs": [
        {
          "output_type": "execute_result",
          "data": {
            "text/plain": [
              "bs4.BeautifulSoup"
            ]
          },
          "metadata": {
            "tags": []
          },
          "execution_count": 12
        }
      ]
    },
    {
      "cell_type": "code",
      "metadata": {
        "id": "UK1F5soiamRL",
        "colab_type": "code",
        "colab": {}
      },
      "source": [
        "print(s.prettify()[:80]) # HTML estructurado"
      ],
      "execution_count": 0,
      "outputs": []
    },
    {
      "cell_type": "code",
      "metadata": {
        "id": "NHJ2noX_auMW",
        "colab_type": "code",
        "colab": {}
      },
      "source": [
        "ul_hot_sections = s.find('ul', attrs={'class': 'hot-sections'}) # Devuelve el primer elemento que haga match"
      ],
      "execution_count": 0,
      "outputs": []
    },
    {
      "cell_type": "code",
      "metadata": {
        "id": "CHIbF_btbhI7",
        "colab_type": "code",
        "colab": {}
      },
      "source": [
        "sections = ul_hot_sections.find_all('li') # Devuelve todos los elementos que hagan match (list)"
      ],
      "execution_count": 0,
      "outputs": []
    },
    {
      "cell_type": "code",
      "metadata": {
        "id": "j39eLcfEcLLA",
        "colab_type": "code",
        "colab": {
          "base_uri": "https://localhost:8080/",
          "height": 153
        },
        "outputId": "03f4de74-f096-4062-8628-357b2acf335d"
      },
      "source": [
        "for section in sections:\n",
        "  print(section.get_text()) # Devuelve todos los textos hijos"
      ],
      "execution_count": 16,
      "outputs": [
        {
          "output_type": "stream",
          "text": [
            "El país\n",
            "Economía\n",
            "Sociedad\n",
            "Cultura y Espectáculos\n",
            "Ciencia\n",
            "El mundo\n",
            "Deportes\n",
            "Contratapa\n"
          ],
          "name": "stdout"
        }
      ]
    },
    {
      "cell_type": "markdown",
      "metadata": {
        "id": "4daoVGR8gUfE",
        "colab_type": "text"
      },
      "source": [
        "## Get info\n",
        "---"
      ]
    },
    {
      "cell_type": "code",
      "metadata": {
        "id": "0BV1LfRscRjA",
        "colab_type": "code",
        "colab": {
          "base_uri": "https://localhost:8080/",
          "height": 34
        },
        "outputId": "b4016885-b2fc-4d5d-d41f-e4ac2838d610"
      },
      "source": [
        "sections[0].a.get('href') # Devuelve el valor de un atributo"
      ],
      "execution_count": 17,
      "outputs": [
        {
          "output_type": "execute_result",
          "data": {
            "text/plain": [
              "'https://www.pagina12.com.ar/secciones/el-pais'"
            ]
          },
          "metadata": {
            "tags": []
          },
          "execution_count": 17
        }
      ]
    },
    {
      "cell_type": "code",
      "metadata": {
        "id": "s78yZ33cdKfs",
        "colab_type": "code",
        "colab": {
          "base_uri": "https://localhost:8080/",
          "height": 153
        },
        "outputId": "42767a9c-a91d-4d25-8b2c-a54d5e4c05d3"
      },
      "source": [
        "link_secciones = [section.a.get('href') for section in sections]\n",
        "link_secciones"
      ],
      "execution_count": 18,
      "outputs": [
        {
          "output_type": "execute_result",
          "data": {
            "text/plain": [
              "['https://www.pagina12.com.ar/secciones/el-pais',\n",
              " 'https://www.pagina12.com.ar/secciones/economia',\n",
              " 'https://www.pagina12.com.ar/secciones/sociedad',\n",
              " 'https://www.pagina12.com.ar/suplementos/cultura-y-espectaculos',\n",
              " 'https://www.pagina12.com.ar/secciones/ciencia',\n",
              " 'https://www.pagina12.com.ar/secciones/el-mundo',\n",
              " 'https://www.pagina12.com.ar/secciones/deportes',\n",
              " 'https://www.pagina12.com.ar/secciones/contratapa']"
            ]
          },
          "metadata": {
            "tags": []
          },
          "execution_count": 18
        }
      ]
    },
    {
      "cell_type": "code",
      "metadata": {
        "id": "0Mt71a1KeIX0",
        "colab_type": "code",
        "colab": {}
      },
      "source": [
        "s = requests.get(link_secciones[0])\n",
        "s_section = BeautifulSoup(s.text, 'lxml')"
      ],
      "execution_count": 0,
      "outputs": []
    },
    {
      "cell_type": "code",
      "metadata": {
        "id": "sBWdLF_2f8Ax",
        "colab_type": "code",
        "colab": {}
      },
      "source": [
        "featured_article = s_section.find('div', attrs={ 'class':'featured-article__container' })"
      ],
      "execution_count": 0,
      "outputs": []
    },
    {
      "cell_type": "code",
      "metadata": {
        "id": "YtcNZ5PVgu5f",
        "colab_type": "code",
        "colab": {
          "base_uri": "https://localhost:8080/",
          "height": 34
        },
        "outputId": "40c9f7a4-4606-489d-88e5-15248725fd53"
      },
      "source": [
        "featured_article.a.get('href')"
      ],
      "execution_count": 21,
      "outputs": [
        {
          "output_type": "execute_result",
          "data": {
            "text/plain": [
              "'https://www.pagina12.com.ar/252422-legisladores-y-empleados-del-congreso-en-cuarentena'"
            ]
          },
          "metadata": {
            "tags": []
          },
          "execution_count": 21
        }
      ]
    },
    {
      "cell_type": "code",
      "metadata": {
        "id": "kIv1y2OIhG-m",
        "colab_type": "code",
        "colab": {}
      },
      "source": [
        "article_list = s_section.find('ul', attrs={ 'class':'article-list' })"
      ],
      "execution_count": 0,
      "outputs": []
    },
    {
      "cell_type": "code",
      "metadata": {
        "id": "KKOCxGaMhVJq",
        "colab_type": "code",
        "colab": {
          "base_uri": "https://localhost:8080/",
          "height": 272
        },
        "outputId": "bb499b79-5607-42db-9f0e-7171cf1c56b0"
      },
      "source": [
        "# Reto\n",
        "def get_articles_links_from_section(sectionBS):\n",
        "  links = []\n",
        "\n",
        "  # Featured article\n",
        "  links.append(sectionBS.find('div', attrs={ 'class':'featured-article__container'}).a.get('href'))\n",
        "\n",
        "  # \"Normal\" articles\n",
        "  for article in sectionBS.find('ul', attrs={ 'class':'article-list' }).find_all('li'):\n",
        "    if article.get_text():\n",
        "      links.append(article.find('h2').a.get('href'))\n",
        "\n",
        "  return list(set(links))\n",
        "\n",
        "lista_notas = get_articles_links_from_section(s_section)\n",
        "lista_notas"
      ],
      "execution_count": 43,
      "outputs": [
        {
          "output_type": "execute_result",
          "data": {
            "text/plain": [
              "['https://www.pagina12.com.ar/252310-la-justicia-investiga-un-multimillonaro-desvio-de-acero-de-l',\n",
              " 'https://www.pagina12.com.ar/252265-desafios-de-la-educacion-superior',\n",
              " 'https://www.pagina12.com.ar/252222-ramos-padilla-denuncia-que-en-comodoro-py-buscan-beneficiar-',\n",
              " 'https://www.pagina12.com.ar/252421-el-gobierno-lanza-un-plan-de-pequenas-obras',\n",
              " 'https://www.pagina12.com.ar/252226-alberto-fernandez-dijo-que-le-preocupan-situaciones-de-la-ju',\n",
              " 'https://www.pagina12.com.ar/252235-la-provincia-de-buenos-aires-como-problema',\n",
              " 'https://www.pagina12.com.ar/252251-alberto-fernandez-volvio-a-dar-clases-en-la-facultad-de-dere',\n",
              " 'https://www.pagina12.com.ar/252422-legisladores-y-empleados-del-congreso-en-cuarentena',\n",
              " 'https://www.pagina12.com.ar/252399-el-senado-sesionara-para-convertir-en-ley-las-limitaciones-a',\n",
              " 'https://www.pagina12.com.ar/252408-dibujos-urgentes-retratos-de-genocidas-y-testigos-de-juicios',\n",
              " 'https://www.pagina12.com.ar/252406-le-impusieron-una-multa-a-larreta-por-no-cumplir-con-un-plan',\n",
              " 'https://www.pagina12.com.ar/252379-lagrimas-y-alegrias',\n",
              " 'https://www.pagina12.com.ar/252382-argentina-admitio-responsabilidad-y-pidio-disculpas',\n",
              " 'https://www.pagina12.com.ar/252030-coronavirus-licencia-de-14-dias-para-quienes-lleguen-del-ext',\n",
              " 'https://www.pagina12.com.ar/252281-el-aborto-divide-a-las-legisladoras-radicales-se-dobla-y-no-']"
            ]
          },
          "metadata": {
            "tags": []
          },
          "execution_count": 43
        }
      ]
    },
    {
      "cell_type": "markdown",
      "metadata": {
        "id": "TeEeMCEGmIR8",
        "colab_type": "text"
      },
      "source": [
        "## Error Handling\n",
        "---"
      ]
    },
    {
      "cell_type": "code",
      "metadata": {
        "id": "nYLxInjKi5Us",
        "colab_type": "code",
        "colab": {
          "base_uri": "https://localhost:8080/",
          "height": 34
        },
        "outputId": "5be60eb8-6ee0-4638-ef8c-6e34d0ab90fe"
      },
      "source": [
        "# status_code == 200\n",
        "\n",
        "r = requests.get(url)\n",
        "\n",
        "if r.status_code == 200:\n",
        "  # Use the response\n",
        "  print('Yeih!!')\n",
        "else:\n",
        "  # Show the error\n",
        "  print('Oh no!')"
      ],
      "execution_count": 29,
      "outputs": [
        {
          "output_type": "stream",
          "text": [
            "Yeih!!\n"
          ],
          "name": "stdout"
        }
      ]
    },
    {
      "cell_type": "code",
      "metadata": {
        "id": "hR6DNNqMnYh8",
        "colab_type": "code",
        "colab": {
          "base_uri": "https://localhost:8080/",
          "height": 71
        },
        "outputId": "dc558bb4-dec4-483e-937c-e8d60a03d5d6"
      },
      "source": [
        "# Revisar si se obtuvo respuesta del servidor\n",
        "\n",
        "url_mala = url.replace('2', '3') # https://www.pagina13.com.ar/\n",
        "\n",
        "try:\n",
        "  response = requests.get(url_mala)\n",
        "  print(response)\n",
        "except Exception as e:\n",
        "  print('Error')\n",
        "  print(e)"
      ],
      "execution_count": 37,
      "outputs": [
        {
          "output_type": "stream",
          "text": [
            "Error\n",
            "HTTPSConnectionPool(host='www.pagina13.com.ar', port=443): Max retries exceeded with url: / (Caused by NewConnectionError('<urllib3.connection.VerifiedHTTPSConnection object at 0x7f60afbe7400>: Failed to establish a new connection: [Errno -2] Name or service not known',))\n"
          ],
          "name": "stdout"
        }
      ]
    },
    {
      "cell_type": "code",
      "metadata": {
        "id": "oS95Fa1EoHw4",
        "colab_type": "code",
        "colab": {
          "base_uri": "https://localhost:8080/",
          "height": 51
        },
        "outputId": "efd548d9-82d3-4bcd-94c1-e605cb5f8bed"
      },
      "source": [
        "# Revisar si un tag existió\n",
        "\n",
        "try:\n",
        "  text = featured_article.somehtmltag.get_text()\n",
        "  print(text)\n",
        "except Exception as e:\n",
        "  print('Error')\n",
        "  print(e)"
      ],
      "execution_count": 41,
      "outputs": [
        {
          "output_type": "stream",
          "text": [
            "Error\n",
            "'NoneType' object has no attribute 'get_text'\n"
          ],
          "name": "stdout"
        }
      ]
    },
    {
      "cell_type": "code",
      "metadata": {
        "id": "2BiMpe5kqeQL",
        "colab_type": "code",
        "colab": {
          "base_uri": "https://localhost:8080/",
          "height": 34
        },
        "outputId": "f8ff416d-fb25-4cbc-bae3-e2fcb97d1b56"
      },
      "source": [
        "url_nota = lista_notas[0]\n",
        "print(url_nota)"
      ],
      "execution_count": 46,
      "outputs": [
        {
          "output_type": "stream",
          "text": [
            "https://www.pagina12.com.ar/252310-la-justicia-investiga-un-multimillonaro-desvio-de-acero-de-l\n"
          ],
          "name": "stdout"
        }
      ]
    },
    {
      "cell_type": "code",
      "metadata": {
        "id": "lAQRRYOfqnv5",
        "colab_type": "code",
        "colab": {
          "base_uri": "https://localhost:8080/",
          "height": 51
        },
        "outputId": "79accd8e-d2e1-4c38-c5f6-52070201e838"
      },
      "source": [
        "try:\n",
        "  nota = requests.get(url_nota)\n",
        "  if nota.status_code == 200:\n",
        "    s_nota = BeautifulSoup(nota.text, 'lxml')\n",
        "\n",
        "    # Title\n",
        "    title = s_nota.find('div', attrs={ 'class':'article-title' }).get_text()\n",
        "    date = s_nota.find('span', attrs={ 'pubdate':'pubdate' }).get('datetime')\n",
        "\n",
        "    print(title)\n",
        "    print(date)\n",
        "except Exception as e:\n",
        "  print('Error')\n",
        "  print(e)\n",
        "  print('\\n')"
      ],
      "execution_count": 56,
      "outputs": [
        {
          "output_type": "stream",
          "text": [
            "La acreditación universitaria como desafío y oportunidad \n",
            "2020-03-11\n"
          ],
          "name": "stdout"
        }
      ]
    },
    {
      "cell_type": "code",
      "metadata": {
        "id": "qKoy40BArgWI",
        "colab_type": "code",
        "colab": {}
      },
      "source": [
        ""
      ],
      "execution_count": 0,
      "outputs": []
    }
  ]
}