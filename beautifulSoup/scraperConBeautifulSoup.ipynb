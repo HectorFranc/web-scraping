{
  "nbformat": 4,
  "nbformat_minor": 0,
  "metadata": {
    "colab": {
      "name": "scraperConBeautifulSoup.ipynb",
      "provenance": [],
      "authorship_tag": "ABX9TyMpHl4rqNt81B3oQ5aPxd8j"
    },
    "kernelspec": {
      "name": "python3",
      "display_name": "Python 3"
    }
  },
  "cells": [
    {
      "cell_type": "code",
      "metadata": {
        "id": "RGEwuyF5RQPa",
        "colab_type": "code",
        "colab": {}
      },
      "source": [
        "import requests # Peticiones HTTP"
      ],
      "execution_count": 0,
      "outputs": []
    },
    {
      "cell_type": "markdown",
      "metadata": {
        "id": "6J9XncW1ZrlZ",
        "colab_type": "text"
      },
      "source": [
        "## Requests intro\n",
        "---"
      ]
    },
    {
      "cell_type": "code",
      "metadata": {
        "id": "ytq5kWTQRYwJ",
        "colab_type": "code",
        "colab": {}
      },
      "source": [
        "url = 'https://www.pagina12.com.ar/'\n",
        "p12 = requests.get(url) # Petición por método GET"
      ],
      "execution_count": 0,
      "outputs": []
    },
    {
      "cell_type": "code",
      "metadata": {
        "id": "klDXzddZRpa4",
        "colab_type": "code",
        "colab": {
          "base_uri": "https://localhost:8080/",
          "height": 34
        },
        "outputId": "e086a3a1-f46a-4111-c2c2-2ddd47d7c927"
      },
      "source": [
        "p12.status_code # 200 = Bien hecho"
      ],
      "execution_count": 4,
      "outputs": [
        {
          "output_type": "execute_result",
          "data": {
            "text/plain": [
              "200"
            ]
          },
          "metadata": {
            "tags": []
          },
          "execution_count": 4
        }
      ]
    },
    {
      "cell_type": "code",
      "metadata": {
        "id": "Hwn7G2vASx_X",
        "colab_type": "code",
        "colab": {}
      },
      "source": [
        "p12_html = p12.text # Texto HTML (string)"
      ],
      "execution_count": 0,
      "outputs": []
    },
    {
      "cell_type": "code",
      "metadata": {
        "id": "ONoKSnD7TewH",
        "colab_type": "code",
        "colab": {}
      },
      "source": [
        "p12_content = p12.content # Texto HTML (bytes)"
      ],
      "execution_count": 0,
      "outputs": []
    },
    {
      "cell_type": "code",
      "metadata": {
        "id": "KRteYq6TVBM_",
        "colab_type": "code",
        "colab": {
          "base_uri": "https://localhost:8080/",
          "height": 54
        },
        "outputId": "50921246-7530-44c5-f9df-ac9790090a66"
      },
      "source": [
        "p12.headers # HTTP response headers"
      ],
      "execution_count": 18,
      "outputs": [
        {
          "output_type": "execute_result",
          "data": {
            "text/plain": [
              "{'Date': 'Thu, 12 Mar 2020 01:05:43 GMT', 'Content-Type': 'text/html; charset=utf-8', 'Transfer-Encoding': 'chunked', 'Connection': 'keep-alive', 'Set-Cookie': '__cfduid=d64007b15170e8aa3e08f230cd04d642e1583975143; expires=Sat, 11-Apr-20 01:05:43 GMT; path=/; domain=.pagina12.com.ar; HttpOnly; SameSite=Lax', 'Vary': 'Accept-Encoding', 'X-DNS-Prefetch-Control': 'off', 'Strict-Transport-Security': 'max-age=15724800; includeSubDomains', 'X-Download-Options': 'noopen', 'X-Content-Type-Options': 'nosniff', 'X-XSS-Protection': '1; mode=block', 'X-Backend': 'prod_frontend_1', 'X-Backend-TTL': '180.000', 'X-Type': 'Dynamic URI', 'Age': '1', 'grace': '86400.000 none', 'ttl': '118.832', 'x-debug': '', 'X-Instance': 'cache-front-prod-varnish-76c5f88cf6-6j89c', 'x-restarts': '0', 'X-Cache': 'HIT (10)', 'CF-Cache-Status': 'DYNAMIC', 'Expect-CT': 'max-age=604800, report-uri=\"https://report-uri.cloudflare.com/cdn-cgi/beacon/expect-ct\"', 'Server': 'cloudflare', 'CF-RAY': '57299bc7db5fba2e-ATL', 'Content-Encoding': 'gzip'}"
            ]
          },
          "metadata": {
            "tags": []
          },
          "execution_count": 18
        }
      ]
    },
    {
      "cell_type": "code",
      "metadata": {
        "id": "AmYQgz_0VHpV",
        "colab_type": "code",
        "colab": {
          "base_uri": "https://localhost:8080/",
          "height": 34
        },
        "outputId": "bc99e343-97e8-4c6f-e43c-7155945c9eb9"
      },
      "source": [
        "p12.request.headers # HTTP request headers"
      ],
      "execution_count": 19,
      "outputs": [
        {
          "output_type": "execute_result",
          "data": {
            "text/plain": [
              "{'User-Agent': 'python-requests/2.21.0', 'Accept-Encoding': 'gzip, deflate', 'Accept': '*/*', 'Connection': 'keep-alive'}"
            ]
          },
          "metadata": {
            "tags": []
          },
          "execution_count": 19
        }
      ]
    },
    {
      "cell_type": "code",
      "metadata": {
        "id": "Rgj2o_bVXk-Y",
        "colab_type": "code",
        "colab": {
          "base_uri": "https://localhost:8080/",
          "height": 34
        },
        "outputId": "0c8aab13-a5ae-4d22-b30c-7aa417c73762"
      },
      "source": [
        "p12.request.method # request method"
      ],
      "execution_count": 21,
      "outputs": [
        {
          "output_type": "execute_result",
          "data": {
            "text/plain": [
              "'GET'"
            ]
          },
          "metadata": {
            "tags": []
          },
          "execution_count": 21
        }
      ]
    },
    {
      "cell_type": "code",
      "metadata": {
        "id": "68Xkzu_pX9hj",
        "colab_type": "code",
        "colab": {
          "base_uri": "https://localhost:8080/",
          "height": 34
        },
        "outputId": "70b5464b-2134-44ac-f4bb-47b6f6254a4d"
      },
      "source": [
        "p12.request.url # request url"
      ],
      "execution_count": 22,
      "outputs": [
        {
          "output_type": "execute_result",
          "data": {
            "text/plain": [
              "'https://www.pagina12.com.ar/'"
            ]
          },
          "metadata": {
            "tags": []
          },
          "execution_count": 22
        }
      ]
    },
    {
      "cell_type": "markdown",
      "metadata": {
        "id": "VDosPdKTZxjY",
        "colab_type": "text"
      },
      "source": [
        "## Intro BeautifulSoup\n",
        "---"
      ]
    },
    {
      "cell_type": "code",
      "metadata": {
        "id": "VML-Ql5vYHk-",
        "colab_type": "code",
        "colab": {}
      },
      "source": [
        "from bs4 import BeautifulSoup # HTML parser"
      ],
      "execution_count": 0,
      "outputs": []
    },
    {
      "cell_type": "code",
      "metadata": {
        "id": "fVTFribzZ6pb",
        "colab_type": "code",
        "colab": {}
      },
      "source": [
        "s = BeautifulSoup(p12.text, 'lxml') # Parser"
      ],
      "execution_count": 0,
      "outputs": []
    },
    {
      "cell_type": "code",
      "metadata": {
        "id": "IF0y_7w3alpH",
        "colab_type": "code",
        "colab": {
          "base_uri": "https://localhost:8080/",
          "height": 34
        },
        "outputId": "3eff28be-eef7-4529-c476-904abd682d5b"
      },
      "source": [
        "type(s)"
      ],
      "execution_count": 26,
      "outputs": [
        {
          "output_type": "execute_result",
          "data": {
            "text/plain": [
              "bs4.BeautifulSoup"
            ]
          },
          "metadata": {
            "tags": []
          },
          "execution_count": 26
        }
      ]
    },
    {
      "cell_type": "code",
      "metadata": {
        "id": "UK1F5soiamRL",
        "colab_type": "code",
        "colab": {}
      },
      "source": [
        "print(s.prettify()) # HTML estructurado"
      ],
      "execution_count": 0,
      "outputs": []
    },
    {
      "cell_type": "code",
      "metadata": {
        "id": "NHJ2noX_auMW",
        "colab_type": "code",
        "colab": {}
      },
      "source": [
        "ul_hot_sections = s.find('ul', attrs={'class': 'hot-sections'}) # Devuelve el primer elemento que haga match"
      ],
      "execution_count": 0,
      "outputs": []
    },
    {
      "cell_type": "code",
      "metadata": {
        "id": "CHIbF_btbhI7",
        "colab_type": "code",
        "colab": {}
      },
      "source": [
        "lis_hot_sections = ul_hot_sections.find_all('li') # Devuelve todos los elementos que hagan match (list)"
      ],
      "execution_count": 0,
      "outputs": []
    },
    {
      "cell_type": "code",
      "metadata": {
        "id": "j39eLcfEcLLA",
        "colab_type": "code",
        "colab": {
          "base_uri": "https://localhost:8080/",
          "height": 153
        },
        "outputId": "6979cbe1-10e1-446e-bad2-106ab59fa576"
      },
      "source": [
        "for li in lis_hot_sections:\n",
        "  print(li.text)"
      ],
      "execution_count": 37,
      "outputs": [
        {
          "output_type": "stream",
          "text": [
            "El país\n",
            "Economía\n",
            "Sociedad\n",
            "Cultura y Espectáculos\n",
            "Ciencia\n",
            "El mundo\n",
            "Deportes\n",
            "Contratapa\n"
          ],
          "name": "stdout"
        }
      ]
    },
    {
      "cell_type": "code",
      "metadata": {
        "id": "0BV1LfRscRjA",
        "colab_type": "code",
        "colab": {}
      },
      "source": [
        ""
      ],
      "execution_count": 0,
      "outputs": []
    }
  ]
}