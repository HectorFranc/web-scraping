{
 "cells": [
  {
   "cell_type": "code",
   "execution_count": 3,
   "metadata": {},
   "outputs": [],
   "source": [
    "import scrapy"
   ]
  },
  {
   "cell_type": "code",
   "execution_count": 5,
   "metadata": {},
   "outputs": [],
   "source": [
    "class Spider12(scrapy.Spider):\n",
    "    name = 'spider12'\n",
    "    allowed_domains = ['pagina12.com.ar']\n",
    "    custom_setting = {'FEED_FORMAT': 'json',\n",
    "                     'FEED_URI': 'resultados.json',\n",
    "                     'DEPTH_LIMIT': 2}\n",
    "    start_urls = ['https://www.pagina12.com.ar/secciones/el-pais',\n",
    "                  'https://www.pagina12.com.ar/secciones/economia',\n",
    "                  'https://www.pagina12.com.ar/secciones/sociedad',\n",
    "                  'https://www.pagina12.com.ar/suplementos/cultura-y-espectaculos',\n",
    "                  'https://www.pagina12.com.ar/secciones/ciencia',\n",
    "                  'https://www.pagina12.com.ar/secciones/el-mundo',\n",
    "                  'https://www.pagina12.com.ar/secciones/deportes',\n",
    "                  'https://www.pagina12.com.ar/secciones/contratapa']\n",
    "    def parse(self, response):\n",
    "        # Articulo promocionado\n",
    "        nota_promocionada = response.xpath('//div[@class=\"featured-article_container\"]/h2/a/@href').get()\n",
    "        if nota_promocionada is not None:\n",
    "            yield response.follow(nota_promocionada, callback=self.parse_nota)\n",
    "            \n",
    "        # Listado de notas\n",
    "        notas = response.xpath('//ul[@class=\"article-list\"]//li//a/@href').getall()\n",
    "        for nota in notas:\n",
    "            yield response.follow(nota, callback=self.parse)\n",
    "            \n",
    "        # Link a la siguiente seccion\n",
    "        next_page = response.xpath('//a[@class=\"pagination-btn-next\"]/@href').get()\n",
    "        if next_page is not None:\n",
    "            yield response.follow(next_page, callback=self.parse)\n",
    "        \n",
    "            \n",
    "    def parse_nota(self, response):\n",
    "        # Parse de la nota\n",
    "        titulo = response.xpath('//div[@class=\"article-text\"]/text()').get()\n",
    "        cuerpo = ''.join(response.xpath('//div[@class=\"article-text\"]/p/text()').getall())\n",
    "        yield {'url': response.url, \n",
    "              'title': titulo,\n",
    "              'body': cuerpo}"
   ]
  },
  {
   "cell_type": "code",
   "execution_count": 6,
   "metadata": {},
   "outputs": [],
   "source": [
    "from scrapy.crawler import CrawlerProcess"
   ]
  },
  {
   "cell_type": "code",
   "execution_count": null,
   "metadata": {},
   "outputs": [],
   "source": [
    "process = CrawlerProcess()\n",
    "process.crawl(Spider12)\n",
    "process.start()"
   ]
  },
  {
   "cell_type": "code",
   "execution_count": null,
   "metadata": {},
   "outputs": [],
   "source": []
  }
 ],
 "metadata": {
  "kernelspec": {
   "display_name": "Python 3",
   "language": "python",
   "name": "python3"
  },
  "language_info": {
   "codemirror_mode": {
    "name": "ipython",
    "version": 3
   },
   "file_extension": ".py",
   "mimetype": "text/x-python",
   "name": "python",
   "nbconvert_exporter": "python",
   "pygments_lexer": "ipython3",
   "version": "3.7.4"
  }
 },
 "nbformat": 4,
 "nbformat_minor": 2
}
